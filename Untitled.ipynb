{
 "cells": [
  {
   "cell_type": "code",
   "execution_count": 2,
   "metadata": {},
   "outputs": [
    {
     "name": "stdout",
     "output_type": "stream",
     "text": [
      "['Robot Form Entry / JSON Form Entry', '20171020', '91133', 'LBL', 'Liana Alves', '20171020_91133_LBL', '18.00', '', 'Template Designed to capture 2017-10-20 at 9:11:33am run by Liana Alves', 'Stock solutions are calculated for a total final volume of 18mL', '2017-10-20_1: The reaction tray was heated to 72 oC after which each of the first five reagents were added sequentially. The reaction was then shaken at 900rmp for 900s. Afterward, the second portion of formic acid (reagent 6) was added sequentially to the reaction vials. The tray was then shaken for an additional 1200s at 900rmp. The tray was then heated to 95 oC and held stationary for 2.5 hours (9000s) after which crystal analysis of each experiment (reaction vial) was performed. No filteration was used prior to crystal analysis.', '', 'Chemicals', '', '', 'Chemical 1', 'Chemical 2', 'Chemical 3', '', 'Chemical 1', 'Chemical 2', 'Chemical 3', '', 'Chemical 1', 'Chemical 2', 'Chemical 3']\n"
     ]
    }
   ],
   "source": [
    "import Google_IO as GI\n",
    "\n",
    "GI.SheetUI()\n",
    "\n"
   ]
  },
  {
   "cell_type": "code",
   "execution_count": null,
   "metadata": {},
   "outputs": [],
   "source": []
  }
 ],
 "metadata": {
  "kernelspec": {
   "display_name": "Python 3",
   "language": "python",
   "name": "python3"
  },
  "language_info": {
   "codemirror_mode": {
    "name": "ipython",
    "version": 3
   },
   "file_extension": ".py",
   "mimetype": "text/x-python",
   "name": "python",
   "nbconvert_exporter": "python",
   "pygments_lexer": "ipython3",
   "version": "3.6.5"
  }
 },
 "nbformat": 4,
 "nbformat_minor": 2
}
